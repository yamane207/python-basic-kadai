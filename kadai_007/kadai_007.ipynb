{
  "nbformat": 4,
  "nbformat_minor": 0,
  "metadata": {
    "colab": {
      "provenance": []
    },
    "kernelspec": {
      "name": "python3",
      "display_name": "Python 3"
    },
    "language_info": {
      "name": "python"
    }
  },
  "cells": [
    {
      "cell_type": "code",
      "source": [
        "array = [\"月曜日は晴れです\", \"火曜日は雨です\" , \"水曜日は晴れです\" , \"木曜日は晴れです\" , \"金曜日は曇りです\" , \"土曜日は曇りのち雨です\" , \"日曜日は雷雨です\"]\n",
        "\n",
        "\n",
        "dictionary = {\"mon\" : \"晴れ\" , \"tue\" : \"雨\" , \"wed\" : \"晴れ\" , \"thu\" : \"晴れ\" , \"fri\" : \"曇り\" , \"sat\" : \"曇りのち雨\" , \"sun\" : \"雷雨\"}\n",
        "\n",
        "print(array[2])\n",
        "\n",
        "print(dictionary[\"wed\"])\n",
        "\n",
        "\n",
        "\n"
      ],
      "metadata": {
        "colab": {
          "base_uri": "https://localhost:8080/"
        },
        "id": "GnRi5FOEIZVv",
        "outputId": "fd63c721-e1cb-4a92-d136-a1446e794c1d"
      },
      "execution_count": 4,
      "outputs": [
        {
          "output_type": "stream",
          "name": "stdout",
          "text": [
            "水曜日は晴れです\n",
            "晴れ\n"
          ]
        }
      ]
    }
  ]
}