{
  "nbformat": 4,
  "nbformat_minor": 0,
  "metadata": {
    "colab": {
      "provenance": []
    },
    "kernelspec": {
      "name": "python3",
      "display_name": "Python 3"
    },
    "language_info": {
      "name": "python"
    }
  },
  "cells": [
    {
      "cell_type": "code",
      "source": [
        "array = [\"月曜日は晴れです\", \"火曜日は雨です\" , \"水曜日は晴れです\" , \"木曜日は晴れです\" , \"金曜日は曇りです\" , \"土曜日は曇りのち雨です\" , \"日曜日は雷雨です\"]\n",
        "\n",
        "\n",
        "dictionary = {\"mon\" : \"晴れ\" , \"tue\" : \"雨\" , \"wed\" : \"晴れ\" , \"thu\" : \"晴れ\" , \"fri\" : \"曇り\" , \"sat\" : \"曇りのち雨\" , \"sun\" : \"雷雨\"}\n",
        "\n",
        "print(array[2])\n",
        "\n",
        "print(dictionary[\"wed\"])\n",
        "\n",
        "\n",
        "\n"
      ],
      "metadata": {
        "colab": {
          "base_uri": "https://localhost:8080/"
        },
        "id": "GnRi5FOEIZVv",
        "outputId": "fd63c721-e1cb-4a92-d136-a1446e794c1d"
      },
      "execution_count": null,
      "outputs": [
        {
          "output_type": "stream",
          "name": "stdout",
          "text": [
            "水曜日は晴れです\n",
            "晴れ\n"
          ]
        }
      ]
    },
    {
      "cell_type": "code",
      "source": [
        "print(45+18)\n",
        "print(45>18)\n",
        "\n",
        "print(\"5\"==5)"
      ],
      "metadata": {
        "colab": {
          "base_uri": "https://localhost:8080/"
        },
        "id": "N-Vg82-Z02MO",
        "outputId": "397d35dc-f4f5-4e67-ba6f-777cf436b371"
      },
      "execution_count": null,
      "outputs": [
        {
          "output_type": "stream",
          "name": "stdout",
          "text": [
            "63\n",
            "True\n",
            "False\n"
          ]
        }
      ]
    },
    {
      "cell_type": "code",
      "source": [
        "import random\n",
        "\n",
        "num = random.randint(0,4)\n",
        "\n",
        "print(num)\n",
        "\n",
        "if num == 4:\n",
        "  print(\"大当たりです！\")\n",
        "elif num == 3:\n",
        "  print(\"当たりです\")\n",
        "else:\n",
        "  print(\"はずれです\")\n"
      ],
      "metadata": {
        "colab": {
          "base_uri": "https://localhost:8080/"
        },
        "id": "L7yfdXOZ4gwU",
        "outputId": "78d6441f-6059-4ed9-a706-95516e881039"
      },
      "execution_count": null,
      "outputs": [
        {
          "output_type": "stream",
          "name": "stdout",
          "text": [
            "3\n",
            "当たりです\n"
          ]
        }
      ]
    },
    {
      "cell_type": "code",
      "source": [
        "var = 6\n",
        "\n",
        "\n",
        "if var %3 == 0 and var %5 == 0:\n",
        "  print(\"FizzBuzz\")\n",
        "elif var %3 == 0:\n",
        "  print(\"Fizz\")\n",
        "elif var %5 == 0:\n",
        "  print(\"Buzz\")\n",
        "else:\n",
        "  print(str(var))\n"
      ],
      "metadata": {
        "id": "jpkQECn_FtLe",
        "colab": {
          "base_uri": "https://localhost:8080/"
        },
        "outputId": "951dae05-9edb-4649-ac0f-1c66820ecbc2"
      },
      "execution_count": 22,
      "outputs": [
        {
          "output_type": "stream",
          "name": "stdout",
          "text": [
            "Fizz\n"
          ]
        }
      ]
    }
  ]
}